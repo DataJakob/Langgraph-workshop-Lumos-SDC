{
 "cells": [
  {
   "cell_type": "markdown",
   "metadata": {},
   "source": [
    "<h1>  Build agentic AI application using Langgraph </h1>\n",
    "<p> Built by Jakob Lindstrøm, aka DataJakob@Github,  for Lumos  SDC. </p>\n",
    "<p> In this notebook  we will create a agentic chatbot that is especially good at Q&A for finance and portfolio generation </p> "
   ]
  },
  {
   "cell_type": "markdown",
   "metadata": {},
   "source": [
    "<h3> 1 Import libraries </h3>"
   ]
  },
  {
   "cell_type": "code",
   "execution_count": 37,
   "metadata": {},
   "outputs": [],
   "source": [
    "# Enviroment \n",
    "import os\n",
    "\n",
    "# \"Lang\" packages\n",
    "import langchain\n",
    "import langgraph\n",
    "from langchain_openai import ChatOpenAI\n",
    "from typing import Annotated\n",
    "from typing import TypedDict\n",
    "from langgraph.graph import StateGraph, START, END\n",
    "from langgraph.graph.message import add_messages\n",
    "from langchain_core.prompts import ChatPromptTemplate\n",
    "from pydantic import BaseModel, Field\n",
    "# Other\n",
    "\n",
    "# .env variables\n",
    "# my_api_key = os.getenv(\"OPENAI_API_KEY\")"
   ]
  },
  {
   "cell_type": "markdown",
   "metadata": {},
   "source": [
    "<h2> 2 State and classes </h2>"
   ]
  },
  {
   "cell_type": "code",
   "execution_count": 38,
   "metadata": {},
   "outputs": [],
   "source": [
    "class State(TypedDict):\n",
    "    messages: Annotated[list, add_messages]\n",
    "    mission: str\n",
    "    company_info: str\n",
    "    stocks: Annotated[list, add_messages]\n",
    "    optimal_portfolio: Annotated\n",
    "\n",
    "\n",
    "class Mission(BaseModel):\n",
    "    mission: str = Field(description=\"\"\"\n",
    "                         Answer with one word based on the user query:\n",
    "                         - \"append\", if the user wants to append  the stock into the portfolio.\n",
    "                         - \"more_info\"  if the user wants more info about a stock or something else.\n",
    "                         - \"analyze\"  if  the user wants to analyze the current portfolio,\n",
    "                         - \"other\", if nothing of the above is specified.\n",
    "                        \"\"\")\n",
    "    \n",
    "class Filter(BaseModel):\n",
    "    ticker: str = Field(description=\"\"\"\n",
    "                        Based on the  previous message, I want you to filter down the message to a stock ticker from Oslo Børs.\n",
    "                        - 1. First you need to identify the company inn question\n",
    "                        - 2. Reduce it into its ticker name\n",
    "                        - 3. Then add .OL to it, such that it can be detected by Yahoo Finance\n",
    "\n",
    "                        For example if the company is Equinor I want you to return only: \"EQNR.OL\"\n",
    "                        \"\"\")"
   ]
  },
  {
   "cell_type": "markdown",
   "metadata": {},
   "source": [
    "<h2> 3 Model and Nodes </h2>"
   ]
  },
  {
   "cell_type": "code",
   "execution_count": 39,
   "metadata": {},
   "outputs": [],
   "source": [
    "llm = ChatOpenAI(\n",
    "    model_name=\"gpt-4o-mini\",\n",
    "    temperature=0,\n",
    "    api_key=my_api_key\n",
    ")"
   ]
  },
  {
   "cell_type": "code",
   "execution_count": 40,
   "metadata": {},
   "outputs": [
    {
     "name": "stdout",
     "output_type": "stream",
     "text": [
      "more_info\n"
     ]
    }
   ],
   "source": [
    "a =  llm.with_structured_output(Mission)\n",
    "response = a.invoke(\"hva gjør  equinor\").mission\n",
    "print(response)"
   ]
  },
  {
   "cell_type": "code",
   "execution_count": 53,
   "metadata": {},
   "outputs": [],
   "source": [
    "def navigator(state: State):\n",
    "    nav_model =  llm.with_structured_output(Mission)\n",
    "    response = nav_model.invoke(state[\"messages\"]).mission\n",
    "    return {\"mission\": response}\n",
    "\n",
    "\n",
    "\n",
    "def info(state: State):\n",
    "    prompt = ChatPromptTemplate.from_messages([\n",
    "        (\"system\", \"You are a world class technical documentation writer.\"),\n",
    "        (\"user\", \"{input}\")\n",
    "    ])\n",
    "    info_model = prompt | llm \n",
    "    response =  info_model.invoke({\"input\": state.messages})\n",
    "    state[\"company_info\"] = response.content\n",
    "\n",
    "\n",
    "    \n",
    "def stock_appender(state: State):\n",
    "    nav_model =  llm.with_structured_output(Filter)\n",
    "    response = nav_model.invoke(state[\"messages\"]).ticker\n",
    "    state[\"mission\"] = response\n",
    "\n",
    "\n",
    "\n",
    "def portfolio_analyzer(state: State):\n",
    "    # Call the analyzer function: analyze(state[\"stocks\"])\n",
    "    state[\"messages\"] = 0# what-i-return\n",
    "\n",
    "\n",
    "\n",
    "def final_response(state: State):\n",
    "    if state[\"mission\"] == \"other\":\n",
    "        prompt = ChatPromptTemplate.from_messages([\n",
    "            (\"system\", \"\"\"You are chatbot specializing in financial advisory. \n",
    "             The user has given you a unrelated query, make the user give queries about appending stocks to a porfolio,\n",
    "             get information about a company or analyze a portfolio \"\"\"),\n",
    "            (\"user\", \"{input}\")\n",
    "        ])\n",
    "        final_model = prompt | llm \n",
    "        response =  final_model.invoke({\"input\": state[\"messages\"]})\n",
    "        return {\"messages\": response.content}\n",
    "\n",
    "    elif state[\"mission\"] == \"analyze\":\n",
    "        prompt = ChatPromptTemplate.from_messages([\n",
    "            (\"system\", \"\"\"You are chatbot specializing in financial advisory. \n",
    "             Use the latest query with stocks and its position to inform the user about the optimal portfolio according to the Sharpe ratio.\"\"\"),\n",
    "            (\"user\", \"{input}\")\n",
    "        ])\n",
    "        final_model = prompt | llm \n",
    "        response =  final_model.invoke({\"input\": state[\"messages\"]})\n",
    "        return {\"messages\": response.content}\n",
    "    \n",
    "    elif state[\"mission\"] == \"append\":\n",
    "        prompt = ChatPromptTemplate.from_messages([\n",
    "            (\"system\", \"\"\"You are chatbot specializing in financial advisory. \n",
    "             You have just added a stock to a portfolio, ask the user if a new stock should be added.\n",
    "             Or if the user wants to get info about a company or  analyze the portfolio\"\"\"),\n",
    "            (\"user\", \"{input}\")\n",
    "        ])\n",
    "        final_model = prompt | llm \n",
    "        response =  final_model.invoke({\"input\": state[\"messages\"]})\n",
    "        return {\"messages\":  response.content}\n",
    "        \n",
    "    else:\n",
    "        prompt = ChatPromptTemplate.from_messages([\n",
    "            (\"system\", \"\"\"You are chatbot specializing in financial advisory. \n",
    "             Give key pieces of information about a company that the user have requested.\"\"\"),\n",
    "            (\"user\", \"{input}\")\n",
    "        ])\n",
    "        final_model = prompt | llm \n",
    "        response =  final_model.invoke({\"input\": state[\"messages\"]})\n",
    "        return {\"messages\": response.content}"
   ]
  },
  {
   "cell_type": "markdown",
   "metadata": {},
   "source": [
    "<h2> 4 Edges</h2>"
   ]
  },
  {
   "cell_type": "code",
   "execution_count": 54,
   "metadata": {},
   "outputs": [],
   "source": [
    "def decision(state: State):\n",
    "\n",
    "    if state[\"mission\"] == \"append\":\n",
    "        return \"add_stock\"\n",
    "    elif state[\"mission\"] == \"analyze\":\n",
    "        return  \"analyze_portfolio\"\n",
    "    elif state[\"mission\"] == \"info\":\n",
    "        return \"more_info\"\n",
    "    else:\n",
    "        return \"other\""
   ]
  },
  {
   "cell_type": "markdown",
   "metadata": {},
   "source": [
    "<h2> 5 Workflow Compilation </h2>"
   ]
  },
  {
   "cell_type": "code",
   "execution_count": 55,
   "metadata": {},
   "outputs": [],
   "source": [
    "workflow = StateGraph(State)\n",
    "# Nodes for something.\n",
    "workflow.add_node(\"nav\", navigator)\n",
    "workflow.add_node(\"info\", info)\n",
    "workflow.add_node(\"append\", stock_appender)\n",
    "workflow.add_node(\"analyze\", portfolio_analyzer)\n",
    "workflow.add_node(\"response\", final_response)\n",
    "\n",
    "workflow.add_edge(START, \"nav\")     # Non-optional move\n",
    "workflow.add_conditional_edges(\"nav\",   # Starting node\n",
    "                               decision,    # Decider for which node to go to\n",
    "                               # Options\n",
    "                               {\"more_info\":\"info\",\n",
    "                                \"add_stock\":\"append\",\n",
    "                                \"analyze_portfolio\":\"analyze\",\n",
    "                                \"other\":\"response\"}\n",
    "\n",
    ")\n",
    "# Non-optional moves\n",
    "workflow.add_edge(\"info\", \"response\")\n",
    "workflow.add_edge(\"append\", \"response\")\n",
    "workflow.add_edge(\"analyze\", \"response\")\n",
    "workflow.add_edge(\"response\", END)\n",
    "\n",
    "mygraph = workflow.compile()"
   ]
  },
  {
   "cell_type": "markdown",
   "metadata": {},
   "source": [
    "<h2> 6 Start chatting :) </h2>"
   ]
  },
  {
   "cell_type": "code",
   "execution_count": 56,
   "metadata": {},
   "outputs": [
    {
     "name": "stdout",
     "output_type": "stream",
     "text": [
      "Assistant: {'mission': 'other'}\n",
      "Assistant: {'messages': 'Hello! If you have any questions about investing, such as how to append stocks to your portfolio, get information about a specific company, or analyze your current portfolio, feel free to ask!'}\n",
      "Assistant: {'mission': 'more_info'}\n",
      "Assistant: {'messages': 'Equinor ASA is a Norwegian multinational energy company primarily focused on oil and gas exploration and production, as well as renewable energy. Here are some key pieces of information about Equinor:\\n\\n1. **Foundation and Headquarters**: Equinor was founded in 1972 and is headquartered in Stavanger, Norway.\\n\\n2. **Formerly Known As**: The company was previously known as Statoil until it rebranded to Equinor in 2018 to reflect its commitment to renewable energy and sustainability.\\n\\n3. **Operations**: Equinor operates in more than 30 countries and is involved in various segments of the energy sector, including:\\n   - Oil and gas exploration and production\\n   - Renewable energy, particularly offshore wind and solar power\\n   - Carbon management and technology development\\n\\n4. **Market Position**: Equinor is one of the largest producers of oil and gas in Norway and is a significant player in the global energy market.\\n\\n5. **Sustainability Goals**: The company has set ambitious targets to reduce its carbon intensity and increase its investments in renewable energy. Equinor aims to become a net-zero energy company by 2050.\\n\\n6. **Financial Performance**: As of the latest reports, Equinor has shown strong financial performance, benefiting from high oil prices and a diversified portfolio. It is publicly traded on the Oslo Stock Exchange and the New York Stock Exchange (NYSE) under the ticker symbol \"EQNR.\"\\n\\n7. **Innovation and Technology**: Equinor invests heavily in research and development, focusing on innovative technologies to enhance energy efficiency and reduce environmental impact.\\n\\n8. **Social Responsibility**: The company emphasizes corporate social responsibility, engaging with local communities and stakeholders to ensure sustainable development practices.\\n\\nFor the most current financial data and specific performance metrics, it is advisable to check the latest quarterly or annual reports or financial news updates.'}\n",
      "Assistant: {'mission': 'append'}\n",
      "Assistant: None\n",
      "Assistant: {'messages': \"Great! I've added the stock to your portfolio. Would you like to add another stock, get information about a specific company, or analyze your current portfolio?\"}\n",
      "Assistant: {'mission': 'append'}\n",
      "Assistant: None\n",
      "Assistant: {'messages': \"I've added DNB to your portfolio. Would you like to add another stock, get information about a specific company, or analyze your current portfolio?\"}\n",
      "Assistant: {'mission': 'append'}\n",
      "Assistant: None\n",
      "Assistant: {'messages': 'Great choice! Adding Norske Skog to your portfolio can diversify your investments. Would you like to add another stock, get information about Norske Skog, or analyze your current portfolio?'}\n",
      "Assistant: {'mission': 'analyze'}\n",
      "Assistant: None\n",
      "Assistant: {'messages': \"To analyze your portfolio effectively and provide recommendations based on the Sharpe ratio, I would need to know the specific stocks you currently hold, their respective weights in your portfolio, and any relevant performance metrics such as expected returns and standard deviations. \\n\\nThe Sharpe ratio is a measure of risk-adjusted return, calculated as:\\n\\n\\\\[ \\\\text{Sharpe Ratio} = \\\\frac{E(R) - R_f}{\\\\sigma} \\\\]\\n\\nWhere:\\n- \\\\( E(R) \\\\) is the expected return of the portfolio,\\n- \\\\( R_f \\\\) is the risk-free rate (often the yield on government bonds),\\n- \\\\( \\\\sigma \\\\) is the standard deviation of the portfolio's excess return.\\n\\nOnce I have the details of your current holdings, I can help you analyze the risk and return profile of your portfolio and suggest adjustments to optimize the Sharpe ratio. Please provide the necessary information!\"}\n",
      "Goodbye!\n"
     ]
    }
   ],
   "source": [
    "def stream_graph_updates(user_input: str):\n",
    "    for event in mygraph.stream({\"messages\": [(\"user\", user_input)]}):\n",
    "        for value in event.values():\n",
    "            print(\"Assistant:\", value)\n",
    "\n",
    "\n",
    "while True:\n",
    "    try:\n",
    "        user_input = input(\"User: \")\n",
    "        if user_input.lower() in [\"quit\", \"exit\", \"q\"]:\n",
    "            print(\"Goodbye!\")\n",
    "            break\n",
    "\n",
    "        stream_graph_updates(user_input)\n",
    "    except:\n",
    "        # fallback if input() is not available\n",
    "        user_input = \"What do you know about LangGraph?\"    \n",
    "        print(\"User: \" + user_input)\n",
    "        stream_graph_updates(user_input)\n",
    "        break"
   ]
  }
 ],
 "metadata": {
  "kernelspec": {
   "display_name": ".venvLSDC",
   "language": "python",
   "name": "python3"
  },
  "language_info": {
   "codemirror_mode": {
    "name": "ipython",
    "version": 3
   },
   "file_extension": ".py",
   "mimetype": "text/x-python",
   "name": "python",
   "nbconvert_exporter": "python",
   "pygments_lexer": "ipython3",
   "version": "3.12.8"
  }
 },
 "nbformat": 4,
 "nbformat_minor": 2
}
