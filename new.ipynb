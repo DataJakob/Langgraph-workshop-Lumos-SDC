{
 "cells": [
  {
   "cell_type": "markdown",
   "metadata": {},
   "source": [
    "<h1>  Build agentic AI application using Langgraph </h1>\n",
    "<p> Built by Jakob Lindstrøm, aka DataJakob@Github,  for Lumos  SDC. </p>\n",
    "<p> In this notebook  we will create a agentic chatbot that is especially good at Q&A for finance and portfolio generation </p> "
   ]
  },
  {
   "cell_type": "markdown",
   "metadata": {},
   "source": [
    "<h3> 1 Import libraries </h3>"
   ]
  },
  {
   "cell_type": "code",
   "execution_count": 17,
   "metadata": {},
   "outputs": [],
   "source": [
    "# Enviroment \n",
    "import os\n",
    "\n",
    "# \"Lang\" packages\n",
    "import langchain\n",
    "import langgraph\n",
    "from langchain_openai import ChatOpenAI\n",
    "from typing import Annotated\n",
    "from typing import TypedDict\n",
    "from langgraph.graph.message import add_messages\n",
    "\n",
    "# Other\n",
    "\n",
    "# .env variables\n",
    "my_api_key = os.getenv(\"OPENAI_API_KEY\")"
   ]
  },
  {
   "cell_type": "code",
   "execution_count": null,
   "metadata": {},
   "outputs": [],
   "source": [
    "from pydantic import BaseModel, Field"
   ]
  },
  {
   "cell_type": "code",
   "execution_count": 84,
   "metadata": {},
   "outputs": [],
   "source": [
    "class State(TypedDict):\n",
    "    messages: Annotated[list, add_messages]\n",
    "    stocks: Annotated[list, add_messages]\n",
    "    optimal_portfolio: str\n",
    "\n",
    "class Mission(BaseModel):\n",
    "    mission: str = Field(description=\"\"\"\n",
    "                         Answer with one word based on the user query:\n",
    "                         - \"append\", if the user wants to append  the stock into the portfolio.\n",
    "                         - \"more_info\"  if the user wants more info about a stock or something else.\n",
    "                         - \"analyze\"  if  the user wants to analyze the current portfolio\n",
    "                        \"\"\")"
   ]
  },
  {
   "cell_type": "code",
   "execution_count": 31,
   "metadata": {},
   "outputs": [],
   "source": [
    "llm = ChatOpenAI(\n",
    "    model_name=\"gpt-4o-mini\",\n",
    "    temperature=0,\n",
    "    api_key=my_api_key\n",
    ")"
   ]
  },
  {
   "cell_type": "code",
   "execution_count": 85,
   "metadata": {},
   "outputs": [
    {
     "data": {
      "text/plain": [
       "AIMessage(content='Hei! Hvordan kan jeg hjelpe deg i dag?', additional_kwargs={'refusal': None}, response_metadata={'token_usage': {'completion_tokens': 11, 'prompt_tokens': 8, 'total_tokens': 19, 'completion_tokens_details': {'accepted_prediction_tokens': 0, 'audio_tokens': 0, 'reasoning_tokens': 0, 'rejected_prediction_tokens': 0}, 'prompt_tokens_details': {'audio_tokens': 0, 'cached_tokens': 0}}, 'model_name': 'gpt-4o-mini-2024-07-18', 'system_fingerprint': 'fp_0aa8d3e20b', 'finish_reason': 'stop', 'logprobs': None}, id='run-3ab2e910-feae-4697-af9b-75a42ff1e7a6-0', usage_metadata={'input_tokens': 8, 'output_tokens': 11, 'total_tokens': 19, 'input_token_details': {'audio': 0, 'cache_read': 0}, 'output_token_details': {'audio': 0, 'reasoning': 0}})"
      ]
     },
     "execution_count": 85,
     "metadata": {},
     "output_type": "execute_result"
    }
   ],
   "source": [
    "llm.invoke(\"hei\")"
   ]
  },
  {
   "cell_type": "code",
   "execution_count": 49,
   "metadata": {},
   "outputs": [],
   "source": [
    "from langgraph.graph import StateGraph, START, END"
   ]
  },
  {
   "cell_type": "code",
   "execution_count": 94,
   "metadata": {},
   "outputs": [],
   "source": [
    "def navigator(state):\n",
    "    nav_model =  llm.with_structured_output(Mission)\n",
    "    response = nav_model.invoke(state[\"messages\"]).content\n",
    "    state[\"mission\"] = response\n",
    "\n",
    "def info():\n",
    "    1\n",
    "    # Normal chain where I prompt the model to answer queries about the stock\n",
    "    \n",
    "def stock_appender():\n",
    "    1\n",
    "    # Filter latest message and append the stock to the portfolio\n",
    "\n",
    "def portfolio_analyzer():\n",
    "    1\n",
    "    # Intiate the analysis\n",
    "\n",
    "def final_response():\n",
    "    1\n",
    "    # Generate a final response based on which node was  previously visited"
   ]
  },
  {
   "cell_type": "code",
   "execution_count": 95,
   "metadata": {},
   "outputs": [],
   "source": [
    "def decision(state):\n",
    "\n",
    "    if state[\"mission\"] == \"append\":\n",
    "        return \"add_stock\"\n",
    "    elif state[\"mission\"] == \"analyze\":\n",
    "        return  \"analyze_portfolio\"\n",
    "    else:\n",
    "        return \"more_info\""
   ]
  },
  {
   "cell_type": "code",
   "execution_count": 96,
   "metadata": {},
   "outputs": [
    {
     "data": {
      "image/png": "[encoded data removed]",
      "text/plain": [
       "<langgraph.graph.state.CompiledStateGraph object at 0x0000027D950E4890>"
      ]
     },
     "execution_count": 96,
     "metadata": {},
     "output_type": "execute_result"
    }
   ],
   "source": [
    "workflow = StateGraph(State)\n",
    "# Nodes for something.\n",
    "workflow.add_node(\"nav\", navigator)\n",
    "workflow.add_node(\"info\", info)\n",
    "workflow.add_node(\"append\", stock_appender)\n",
    "workflow.add_node(\"analyzer\", portfolio_analyzer)\n",
    "workflow.add_node(\"response\", final_response)\n",
    "\n",
    "workflow.add_edge(START, \"nav\")     # Non-optional move\n",
    "workflow.add_conditional_edges(\"nav\",   # Starting node\n",
    "                               decision,    # Decider for which node to go to\n",
    "                               # Options\n",
    "                               {\"more_info\":\"info\",\n",
    "                                \"add_stock\":\"append\",\n",
    "                                \"analyze_portfolio\":\"analyzer\"}\n",
    "\n",
    ")\n",
    "# Non-optional moves\n",
    "workflow.add_edge(\"info\", \"response\")\n",
    "workflow.add_edge(\"append\", \"response\")\n",
    "workflow.add_edge(\"analyzer\", \"response\")\n",
    "workflow.add_edge(\"response\", END)\n",
    "\n",
    "workflow.compile()"
   ]
  }
 ],
 "metadata": {
  "kernelspec": {
   "display_name": ".venvLSDC",
   "language": "python",
   "name": "python3"
  },
  "language_info": {
   "codemirror_mode": {
    "name": "ipython",
    "version": 3
   },
   "file_extension": ".py",
   "mimetype": "text/x-python",
   "name": "python",
   "nbconvert_exporter": "python",
   "pygments_lexer": "ipython3",
   "version": "3.12.8"
  }
 },
 "nbformat": 4,
 "nbformat_minor": 2
}
