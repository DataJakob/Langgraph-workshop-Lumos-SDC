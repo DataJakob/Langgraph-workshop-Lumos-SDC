{
 "cells": [
  {
   "cell_type": "markdown",
   "metadata": {},
   "source": [
    "<h1>  Build agentic AI application using Langgraph </h1>\n",
    "<p> Built by Jakob Lindstrøm, aka DataJakob@Github,  for Lumos  SDC. </p>\n",
    "<p> In this notebook  we will create a agentic chatbot that is especially good at Q&A for finance and portfolio generation </p> "
   ]
  },
  {
   "cell_type": "markdown",
   "metadata": {},
   "source": [
    "<h3> 1 Import libraries </h3>"
   ]
  },
  {
   "cell_type": "code",
   "execution_count": 3,
   "metadata": {},
   "outputs": [],
   "source": [
    "# Enviroment \n",
    "import os\n",
    "\n",
    "# \"Lang\" packages\n",
    "import langchain\n",
    "import langgraph\n",
    "from langchain_openai import ChatOpenAI\n",
    "from typing import Annotated\n",
    "from typing import TypedDict\n",
    "from langgraph.graph import StateGraph, START, END\n",
    "from langgraph.graph.message import add_messages\n",
    "from langchain_core.prompts import ChatPromptTemplate\n",
    "\n",
    "from pydantic import BaseModel, Field\n",
    "from langgraph.checkpoint.memory import MemorySaver\n",
    "# Other\n",
    "from demo.analyze.data import PortofolioCloud\n",
    "from demo.analyze.optimizer import Optimized\n",
    "\n",
    "# .env variables\n",
    "# my_api_key = os.getenv(\"OPENAI_API_KEY\")"
   ]
  },
  {
   "cell_type": "code",
   "execution_count": 4,
   "metadata": {},
   "outputs": [],
   "source": []
  },
  {
   "cell_type": "markdown",
   "metadata": {},
   "source": [
    "<h2> 2 State and classes </h2>"
   ]
  },
  {
   "cell_type": "code",
   "execution_count": 49,
   "metadata": {},
   "outputs": [],
   "source": [
    "class State(TypedDict):\n",
    "    messages: Annotated[list, add_messages]\n",
    "    mission: str\n",
    "    stocks: Annotated[list, add_messages]\n",
    "\n",
    "class Mission(BaseModel):\n",
    "    mission: str = Field(description=\"\"\"\n",
    "                         Answer with one word based on the user query:\n",
    "                         - \"append\", if the user wants to append  the stock into the portfolio.\n",
    "                         - \"info\"  if the user wants more info about a stock or something else.\n",
    "                         - \"analyze\"  if  the user wants to analyze the current portfolio,\n",
    "                         - \"other\", if nothing of the above is specified.\n",
    "                        \"\"\")\n",
    "    \n",
    "class Filter(BaseModel):\n",
    "    company: str = Field(description=\"\"\"\n",
    "                         Identify the Norwegian public listed company.\n",
    "                         \"\"\")\n",
    "    ticker: str = Field(description=\"\"\"\n",
    "                        Identify the financial ticker of the mentioned company. \n",
    "                        \"\"\")"
   ]
  },
  {
   "cell_type": "markdown",
   "metadata": {},
   "source": [
    "<h2> 3 Model and Nodes </h2>"
   ]
  },
  {
   "cell_type": "code",
   "execution_count": 6,
   "metadata": {},
   "outputs": [],
   "source": [
    "llm = ChatOpenAI(\n",
    "    model_name=\"gpt-4o-mini\",\n",
    "    temperature=0,\n",
    "    api_key=my_api_key\n",
    ")\n",
    "\n",
    "\n",
    "def chatbot(system_message, user_message):\n",
    "    system_input = \"You are chatbot specializing in financial advisory. \" + str(system_message)\n",
    "    prompt = ChatPromptTemplate.from_messages([\n",
    "        (\"system\", system_input),\n",
    "    ])\n",
    "    info_model = prompt | llm \n",
    "    response =  info_model.invoke({\"user\":user_message})\n",
    "    return response.content"
   ]
  },
  {
   "cell_type": "code",
   "execution_count": 50,
   "metadata": {},
   "outputs": [],
   "source": [
    "def navigator(state: State):\n",
    "    nav_model =  llm.with_structured_output(Mission)\n",
    "    response = nav_model.invoke(state[\"messages\"]).mission\n",
    "    return {\"mission\": response}\n",
    "\n",
    "\n",
    "\n",
    "def info(state: State):\n",
    "    nav_model =  llm.with_structured_output(Filter)\n",
    "    company = nav_model.invoke(state[\"messages\"]).company\n",
    "    response = chatbot(\"\"\"Be brief and concise and present\"\"\" + company +\"\"\" and its main operations.\"\"\",\n",
    "                        state[\"messages\"]\n",
    "                        )\n",
    "    print(state[\"messages\"])\n",
    "    print(\"leave here\")\n",
    "    return {\"messages\": response}\n",
    "\n",
    "\n",
    "    \n",
    "def stock_appender(state: State):\n",
    "    nav_model =  llm.with_structured_output(Filter)\n",
    "    ticker = nav_model.invoke(state[\"messages\"]).ticker+\".OL\"\n",
    "    response = chatbot(\"\"\"You have just added a stock to a portfolio, ask the user if a new stock should be added.\n",
    "                        Or if the user wants to get info about a company or  analyze the portfolio\"\"\",\n",
    "                        state[\"messages\"]\n",
    "                        )\n",
    "    return {\"messages\": response,\n",
    "            \"stocks\":ticker}\n",
    "\n",
    "\n",
    "\n",
    "def portfolio_analyzer(state: State):\n",
    "    stocks = [x.content for x in state[\"stocks\"]]\n",
    "    alfa = PortofolioCloud(stocks)\n",
    "    alfa.final_df()\n",
    "    bravo = Optimized(alfa.stocks, alfa.df,\n",
    "                    alfa.tot_cov_mat,alfa.neg_cov_mat,\n",
    "                    alfa.returns, alfa.mean, alfa.std)\n",
    "    bravo.PortofolioOptimizer()\n",
    "    positions =  bravo.optimized_portofolios\n",
    "    myStr = \"\"\n",
    "    for i in range(0, len(stocks),1):\n",
    "        myStr += str(stocks[i]+ \" at \" +str(round(positions[2][0][i]*100,1))+\"%, \")\n",
    "    response = chatbot(\"\"\"Use this input from the user to inform the user about the stock posistion that would generate\n",
    "                           the best portfolio based on the Sharpe ratio. Be brief and concise\"\"\"+myStr,\n",
    "                            state[\"messages\"]\n",
    "                            )\n",
    "    return {\"messages\": response}\n",
    "\n",
    "def other(state: State):\n",
    "    response = chatbot(\"\"\"The user has given you a unrelated query, make the user give queries about appending stocks to a porfolio,\n",
    "                        get information about a company or analyze a portfolio \"\"\",\n",
    "                        state[\"messages\"]\n",
    "                        )\n",
    "    return {\"messages\": response}\n",
    "\n"
   ]
  },
  {
   "cell_type": "markdown",
   "metadata": {},
   "source": [
    "<h2> 4 Edges</h2>"
   ]
  },
  {
   "cell_type": "code",
   "execution_count": 51,
   "metadata": {},
   "outputs": [],
   "source": [
    "def decision(state: State):\n",
    "    if state[\"mission\"] == \"append\":\n",
    "        return \"append\"\n",
    "    elif state[\"mission\"] == \"analyze\":\n",
    "        return  \"analyze\"\n",
    "    elif state[\"mission\"] == \"info\":\n",
    "        return \"info\"\n",
    "    else:\n",
    "        return \"other\""
   ]
  },
  {
   "cell_type": "markdown",
   "metadata": {},
   "source": []
  },
  {
   "cell_type": "markdown",
   "metadata": {},
   "source": [
    "<h2> 5 Workflow Compilation </h2>"
   ]
  },
  {
   "cell_type": "code",
   "execution_count": 52,
   "metadata": {},
   "outputs": [],
   "source": [
    "# Initialize the graph and create a memory saver\n",
    "workflow = StateGraph(State)\n",
    "memory = MemorySaver()\n",
    "\n",
    "# Add nodes\n",
    "workflow.add_node(\"nav\", navigator)\n",
    "workflow.add_node(\"info\", info)\n",
    "workflow.add_node(\"append\", stock_appender)\n",
    "workflow.add_node(\"analyze\", portfolio_analyzer)\n",
    "workflow.add_node(\"other\", other)\n",
    "\n",
    "# Add edges\n",
    "workflow.add_edge(START, \"nav\")     # Non-optional move\n",
    "workflow.add_conditional_edges(\"nav\",   # Starting node\n",
    "                               decision,    # Decider for which node to go to\n",
    "                               # Options\n",
    "                               {\"info\":\"info\",\n",
    "                                \"append\":\"append\",\n",
    "                                \"analyze\":\"analyze\",\n",
    "                                \"other\":\"other\"}\n",
    "\n",
    ")\n",
    "workflow.add_edge(\"info\", END)\n",
    "workflow.add_edge(\"append\", END)\n",
    "workflow.add_edge(\"analyze\", END)\n",
    "workflow.add_edge(\"other\", END)\n",
    "\n",
    "# Compile and save the graph\n",
    "mygraph = workflow.compile(checkpointer=memory)\n",
    "# workflow.compile()"
   ]
  },
  {
   "cell_type": "markdown",
   "metadata": {},
   "source": [
    "<h2> 6 Start chatting :) </h2>"
   ]
  },
  {
   "cell_type": "code",
   "execution_count": null,
   "metadata": {},
   "outputs": [],
   "source": []
  },
  {
   "cell_type": "code",
   "execution_count": 53,
   "metadata": {},
   "outputs": [
    {
     "name": "stdout",
     "output_type": "stream",
     "text": [
      "Assistant: {'mission': 'info'}\n",
      "[HumanMessage(content='what do rana gruber do?', additional_kwargs={}, response_metadata={}, id='39a123cf-8a94-4568-8d64-25482760ee8c')]\n",
      "leave here\n",
      "Assistant: {'messages': 'Rana Gruber is a Norwegian mining company primarily engaged in the extraction and processing of iron ore. The company operates the Rana Gruber mine located in Mo i Rana, Norway, where it produces high-quality iron ore products, including pellets and concentrates. Rana Gruber focuses on sustainable mining practices and aims to minimize environmental impact while meeting the growing demand for iron ore in various industries, particularly steel production. The company also emphasizes innovation and efficiency in its operations to enhance profitability and competitiveness in the global market.'}\n",
      "Assistant: {'mission': 'append'}\n",
      "Assistant: {'messages': \"I've just added a new stock to your portfolio! Would you like to add another stock, get information about a specific company, or analyze your current portfolio? Let me know how I can assist you!\", 'stocks': 'RANA.OL'}\n",
      "Assistant: {'mission': 'append'}\n",
      "Assistant: {'messages': \"I've just added a new stock to your portfolio! Would you like to add another stock, get information about a specific company, or analyze your current portfolio? Let me know how I can assist you!\", 'stocks': 'EQNR.OL'}\n",
      "Assistant: {'mission': 'append'}\n",
      "Assistant: {'messages': \"I've just added a new stock to your portfolio! Would you like to add another stock, get information about a specific company, or analyze your current portfolio? Let me know how I can assist you!\", 'stocks': 'MOWI.OL'}\n",
      "Assistant: {'mission': 'analyze'}\n"
     ]
    },
    {
     "name": "stderr",
     "output_type": "stream",
     "text": [
      "[*********************100%***********************]  1 of 1 completed\n",
      "[*********************100%***********************]  1 of 1 completed\n",
      "[*********************100%***********************]  1 of 1 completed\n"
     ]
    },
    {
     "name": "stdout",
     "output_type": "stream",
     "text": [
      "Assistant: {'messages': \"To optimize your portfolio based on the Sharpe ratio, consider the following:\\n\\n1. **RANA.OL (17.3%)**: This stock has a moderate return potential but may carry some risk.\\n2. **EQNR.OL (0.0%)**: This stock currently shows no return, which does not contribute positively to your portfolio.\\n3. **MOWI.OL (82.7%)**: This stock has a high return potential, making it a strong candidate for maximizing your portfolio's Sharpe ratio.\\n\\nTo enhance your portfolio, focus on increasing your allocation in MOWI.OL while reducing or eliminating your position in EQNR.OL. This adjustment should help improve your overall risk-adjusted returns. Always consider your risk tolerance and investment goals before making changes.\"}\n",
      "Goodbye!\n"
     ]
    }
   ],
   "source": [
    "def stream_graph_updates(user_input: str):\n",
    "    for event in mygraph.stream({\"messages\": [(\"user\", user_input)]},\n",
    "                                {\"configurable\": {\"thread_id\": \"0g\"}}):\n",
    "        for value in event.values():\n",
    "            print(\"Assistant:\", value)\n",
    "\n",
    "\n",
    "while True:\n",
    "    try:\n",
    "        user_input = input(\"User: \")\n",
    "        if user_input.lower() in [\"quit\", \"exit\", \"q\"]:\n",
    "            print(\"Goodbye!\")\n",
    "            break\n",
    "\n",
    "        stream_graph_updates(user_input)\n",
    "    except:\n",
    "        # fallback if input() is not available\n",
    "        user_input = \"----Something wong here------\"    \n",
    "        print(\"User: \" + user_input)\n",
    "        stream_graph_updates(user_input)\n",
    "        break"
   ]
  }
 ],
 "metadata": {
  "kernelspec": {
   "display_name": ".venvLSDC",
   "language": "python",
   "name": "python3"
  },
  "language_info": {
   "codemirror_mode": {
    "name": "ipython",
    "version": 3
   },
   "file_extension": ".py",
   "mimetype": "text/x-python",
   "name": "python",
   "nbconvert_exporter": "python",
   "pygments_lexer": "ipython3",
   "version": "3.12.8"
  }
 },
 "nbformat": 4,
 "nbformat_minor": 2
}
